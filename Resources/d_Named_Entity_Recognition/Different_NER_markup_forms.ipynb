{
  "nbformat": 4,
  "nbformat_minor": 0,
  "metadata": {
    "colab": {
      "provenance": [],
      "toc_visible": true
    },
    "kernelspec": {
      "name": "python3",
      "display_name": "Python 3"
    },
    "language_info": {
      "name": "python"
    },
    "accelerator": "GPU"
  },
  "cells": [
    {
      "cell_type": "markdown",
      "source": [
        "#### Примапим диск"
      ],
      "metadata": {
        "id": "R0xSh80fjgH3"
      }
    },
    {
      "cell_type": "code",
      "source": [
        "from google.colab import drive\n",
        "drive.mount('/content/drive')"
      ],
      "metadata": {
        "colab": {
          "base_uri": "https://localhost:8080/"
        },
        "id": "reMAk7EWjeo1",
        "outputId": "b87f112c-9e92-4cc4-e2c2-679d67a3023b"
      },
      "execution_count": 1,
      "outputs": [
        {
          "output_type": "stream",
          "name": "stdout",
          "text": [
            "Mounted at /content/drive\n"
          ]
        }
      ]
    },
    {
      "cell_type": "markdown",
      "source": [
        "#### Устанавливаем зависимости"
      ],
      "metadata": {
        "id": "uJqpPpc6j24J"
      }
    },
    {
      "cell_type": "code",
      "source": [
        "repo_folder = '/content/drive/MyDrive/DeepLearn/'"
      ],
      "metadata": {
        "id": "Bk5OcuUbjxWw"
      },
      "execution_count": 3,
      "outputs": []
    },
    {
      "cell_type": "code",
      "source": [
        "reqs_path = repo_folder + 'IntelligentDocumentProcessing/requirements.txt '\n",
        "!pip3 install -r {reqs_path}"
      ],
      "metadata": {
        "id": "KlKqtuTSj5y4"
      },
      "execution_count": null,
      "outputs": []
    },
    {
      "cell_type": "code",
      "source": [
        "import sys\n",
        "base_folder = repo_folder + 'IntelligentDocumentProcessing/Resources/d_Named_Entity_Recognition/'\n",
        "sys.path.append(base_folder)"
      ],
      "metadata": {
        "id": "wvgaF6_qj_rc"
      },
      "execution_count": 6,
      "outputs": []
    },
    {
      "cell_type": "code",
      "source": [
        "import json\n",
        "from tqdm import tqdm\n",
        "from typing import List, Tuple\n",
        "from ipymarkup import show_span_line_markup"
      ],
      "metadata": {
        "id": "A8lFMcEgkbbG"
      },
      "execution_count": 7,
      "outputs": []
    },
    {
      "cell_type": "markdown",
      "source": [
        "# Как хранить разметку для NER?"
      ],
      "metadata": {
        "id": "6dYGg7XR86N2"
      }
    },
    {
      "cell_type": "markdown",
      "source": [
        "### ConLL\n",
        "Как исследователь данных вы должны быть знакомы с различными общими и соревнованием ConLL. В 2003 г. было опубликовано одно из первых \"состязаний\" по NER, включающим данные по форммату ConLL. Подробное описание вы можете найти [здесь](https://aclanthology.org/W03-0419.pdf). CoNLL — условное название форматов TSV для задач NLP (TSV — значения разделенные табуляцией, т. е. CSV с <TAB> в качестве разделителя)\n",
        "\n",
        "\n",
        "```\n",
        "-DOCSTART- -X- -X- O\n",
        "\n",
        "EU NNP B-NP B-ORG\n",
        "rejects VBZ B-VP O\n",
        "German JJ B-NP B-MISC\n",
        "call NN I-NP O\n",
        "to TO B-VP O\n",
        "boycott VB I-VP O\n",
        "British JJ B-NP B-MISC\n",
        "lamb NN I-NP O\n",
        ". . O O\n",
        "\n",
        "Peter NNP B-NP B-PER\n",
        "Blackburn NNP I-NP I-PER\n",
        "```\n",
        "\n",
        "В форматах **CoNLL**:\n",
        "\n",
        "* каждое слово (лексема) представлено в отдельной строке\n",
        "* каждое предложение отделяется от следующего пустой строкой\n",
        "* каждый столбец представляет собой одну аннотацию\n",
        "* каждое слово в предложении имеет одинаковое количество столбцов, то есть аннотации\n",
        "* аннотация - строковое значение определнной лингвистической каетегории\n",
        "* аннотации, охватывающие несколько слов, иногда используют специальные обозначения, например, круглые скобки (указывающие начало и конец фразы), также может быть тег схемы IOBES (например, B-NP (Begin - Noun Phrase): начальный токен именной группы, I-NP: один из неначальных токенов именной группы , E-NP: конечный токен именной группы, S-NP: именная группа состоит из одного токена, O: не относится к именной группе)\n",
        "* некоторые форматы CoNLL имеют один или несколько столбцов с числовыми идентификаторами, в таком случае следующий столбец после него содержит строковое значение - сам токен\n",
        "\n",
        "\n",
        "Существуют разные форматы **ConLL**? Да.\n",
        "\n",
        "Примерами этого разнообразия являются дорожки в соревнования ConLL-2009, а также всемирный NLP проект: [Universal Dependacies](https://universaldependencies.org/) - фреймворк для создания и хранения консистентной грамматической аннотации  (части речи, морфологические признаки, и синтаксические зависимости) на разных языках. UD — это открытое сообщество, в котором более 300 участников, которые создали около 200 наборов синтаксических деревьев на более чем 100 языках. \n",
        "\n"
      ],
      "metadata": {
        "id": "O3N8QTjLJ92K"
      }
    },
    {
      "cell_type": "code",
      "source": [
        "!wget https://data.deepai.org/conll2003.zip \n",
        "!unzip conll2003.zip"
      ],
      "metadata": {
        "id": "ZAh7tGMlIhmw",
        "colab": {
          "base_uri": "https://localhost:8080/"
        },
        "outputId": "67207c13-2bbf-4af1-b141-f5545eb249e9"
      },
      "execution_count": 8,
      "outputs": [
        {
          "output_type": "stream",
          "name": "stdout",
          "text": [
            "--2022-11-16 08:31:53--  https://data.deepai.org/conll2003.zip\n",
            "Resolving data.deepai.org (data.deepai.org)... 5.9.140.253\n",
            "Connecting to data.deepai.org (data.deepai.org)|5.9.140.253|:443... connected.\n",
            "HTTP request sent, awaiting response... 200 OK\n",
            "Length: 982975 (960K) [application/x-zip-compressed]\n",
            "Saving to: ‘conll2003.zip’\n",
            "\n",
            "conll2003.zip       100%[===================>] 959.94K   971KB/s    in 1.0s    \n",
            "\n",
            "2022-11-16 08:31:55 (971 KB/s) - ‘conll2003.zip’ saved [982975/982975]\n",
            "\n",
            "Archive:  conll2003.zip\n",
            "  inflating: metadata                \n",
            "  inflating: test.txt                \n",
            "  inflating: train.txt               \n",
            "  inflating: valid.txt               \n"
          ]
        }
      ]
    },
    {
      "cell_type": "markdown",
      "source": [
        "От теории к практике. Давайте прочитаем сохраненную аннотация и стркутрируем ее в виде исходных документов и предложений внутри. Мы ожидаем получить список документов, каждый из которых будет состоять из списка предложений. Внутри предложения будут пары: токен - NER тег."
      ],
      "metadata": {
        "id": "B2EqCXidX72d"
      }
    },
    {
      "cell_type": "code",
      "source": [
        "_SEP = \" \"\n",
        "_TOKEN_COLUMN = 0\n",
        "_LABEL_COLUMN = -1\n",
        "_CONLL_PREFIX_SEPARATOR = \"-\"\n",
        "_LIBRARY_PREFIX_SEPARATOR = \"_\"\n",
        "\n",
        "def read_conll(file_path: str) -> List[List[Tuple[List[str], List[str]]]]:\n",
        "\n",
        "  with open(file_path) as f:\n",
        "    lines = f.readlines()\n",
        "\n",
        "  documents = []\n",
        "  document_sequences = []\n",
        "  sentence_tokens = []\n",
        "  sentence_labels = []\n",
        "  # не забудем tqdm для динамического отслеживания процесс считывания разметки\n",
        "  for line in tqdm(lines, desc=\"Parsing data\"):\n",
        "      contents = line.strip()\n",
        "      # каждый новый документ начинается с этого тега\n",
        "      if contents.startswith(\"-DOCSTART-\"):\n",
        "          if document_sequences:\n",
        "              documents.append(document_sequences)\n",
        "          document_sequences = []\n",
        "          sentence_tokens = []\n",
        "          sentence_labels = []\n",
        "          continue\n",
        "      if not contents:\n",
        "          if sentence_tokens:\n",
        "              document_sequences.append((sentence_tokens, sentence_labels))\n",
        "          sentence_tokens = []\n",
        "          sentence_labels = []\n",
        "          continue\n",
        "      items = contents.split()\n",
        "      token = items[_TOKEN_COLUMN]\n",
        "      label = items[_LABEL_COLUMN].replace(\n",
        "                _CONLL_PREFIX_SEPARATOR, _LIBRARY_PREFIX_SEPARATOR\n",
        "            )\n",
        "      sentence_tokens.append(token)\n",
        "      sentence_labels.append(label)\n",
        "    \n",
        "  if sentence_tokens:\n",
        "    document_sequences.append((sentence_tokens, sentence_labels))\n",
        "\n",
        "  if document_sequences:\n",
        "    documents.append(document_sequences)\n",
        "\n",
        "  return documents"
      ],
      "metadata": {
        "id": "IObX2QWrk9Q0"
      },
      "execution_count": 9,
      "outputs": []
    },
    {
      "cell_type": "code",
      "source": [
        "train_docs = read_conll(\"train.txt\")"
      ],
      "metadata": {
        "colab": {
          "base_uri": "https://localhost:8080/"
        },
        "id": "3Yy4A4lNZDN6",
        "outputId": "4fbc15f9-b902-4a86-e678-5c0606e98bde"
      },
      "execution_count": 10,
      "outputs": [
        {
          "output_type": "stream",
          "name": "stderr",
          "text": [
            "Parsing data: 100%|██████████| 219554/219554 [00:00<00:00, 807228.18it/s]\n"
          ]
        }
      ]
    },
    {
      "cell_type": "markdown",
      "source": [
        "Посмотрим как выглядят выравненные предложения и списки меток:"
      ],
      "metadata": {
        "id": "kKORhAZvnCiZ"
      }
    },
    {
      "cell_type": "code",
      "source": [
        "doc_example_id = 8\n",
        "print(\"START DOC\\n\" + \"-\" * 30)\n",
        "for sentence, labels in train_docs[doc_example_id]:\n",
        "  print(\" \".join(sentence))\n",
        "  print(\" \".join(labels))\n",
        "print(\"-\" * 30 + \"\\nEND DOC\")"
      ],
      "metadata": {
        "colab": {
          "base_uri": "https://localhost:8080/"
        },
        "id": "oemWNwruZqNh",
        "outputId": "4df87f3c-bd7c-46e5-bbfe-55bc4365d9d4"
      },
      "execution_count": 11,
      "outputs": [
        {
          "output_type": "stream",
          "name": "stdout",
          "text": [
            "START DOC\n",
            "------------------------------\n",
            "Port conditions update - Syria - Lloyds Shipping .\n",
            "O O O O B_LOC O B_ORG I_ORG O\n",
            "Port conditions from Lloyds Shipping Intelligence Service --\n",
            "O O O B_ORG I_ORG I_ORG I_ORG O\n",
            "LATTAKIA , Aug 10 - waiting time at Lattakia and Tartous presently 24 hours .\n",
            "B_LOC O O O O O O O B_LOC O B_LOC O O O O\n",
            "------------------------------\n",
            "END DOC\n"
          ]
        }
      ]
    },
    {
      "cell_type": "markdown",
      "source": [
        "В коде ниже мы преобразуем наш дадасет: соберем через пробелы токены и воостановим в них координаты сущностей в символах. Таким образом мы будем иметь на каждое предложение список туплов для сущностей и одну строку, содержащую строковое значение."
      ],
      "metadata": {
        "id": "SPqQG6RFavEu"
      }
    },
    {
      "cell_type": "code",
      "source": [
        "def document_to_samples(\n",
        "        doc_id: int,\n",
        "        document_sequences: List[Tuple[List[str], List[str]]],\n",
        "):\n",
        "    \"\"\"\n",
        "    На вход получаем список предложений с тегами для каждого токена внутри предложения. \n",
        "    В данном пайплайне предложения относятся к одному документу. Исходные токены \n",
        "    предложения собираем в одну строку через пробел. Преобразуем список тегов \n",
        "    сущностей к списку туплов с символьными координамтами и типом (для каждой сущности).\n",
        "    \"\"\"\n",
        "    instances = []\n",
        "    sentences = []\n",
        "    sequence_boundaries = []\n",
        "    current_sentence_pos = 0\n",
        "    for sentence_tokens, sentence_labels in document_sequences:\n",
        "        current_word_pos = 0\n",
        "        sentence_text = _SEP.join(sentence_tokens)\n",
        "        sentences.append(sentence_text)\n",
        "        sequence_boundaries.append(\n",
        "            (current_sentence_pos, current_sentence_pos + len(sentence_text))\n",
        "        )\n",
        "        prev_entity_type = \"\"\n",
        "        entity_type = \"\"\n",
        "        entities = []\n",
        "        current_sentence_pos = 0\n",
        "        token_boundaries = []\n",
        "        entity_start = 0\n",
        "        entity_end = 1\n",
        "        entity_text = []\n",
        "        for i, (tag, word) in enumerate(zip(sentence_labels, sentence_tokens)):\n",
        "            token_boundaries.append((current_word_pos, current_word_pos + len(word)))\n",
        "            current_word_pos += len(word) + len(_SEP)\n",
        "\n",
        "            if tag != \"O\":\n",
        "                prefix, curr_entity_type = tag.split(_LIBRARY_PREFIX_SEPARATOR, 1)\n",
        "            else:\n",
        "                prefix = ''\n",
        "                curr_entity_type = ''\n",
        "\n",
        "            if (prefix not in (\"B\", \"I\")) and ((prefix == '') and tag != \"O\"):\n",
        "                continue\n",
        "\n",
        "            if prefix == \"I\" and prev_entity_type == curr_entity_type:\n",
        "                entity_end += 1\n",
        "                entity_text.append(word)\n",
        "\n",
        "            else:\n",
        "                if entity_type:\n",
        "                    entities.append(\n",
        "                        (token_boundaries[entity_start][0], \n",
        "                         token_boundaries[entity_end - 1][-1], \n",
        "                         entity_type)\n",
        "                        )\n",
        "                entity_start = i\n",
        "                entity_end = i + 1\n",
        "                entity_type = curr_entity_type\n",
        "                entity_text = [word]\n",
        "\n",
        "            prev_entity_type = curr_entity_type\n",
        "\n",
        "        else:\n",
        "            if entity_type:\n",
        "                entities.append(\n",
        "                        (token_boundaries[entity_start][0], \n",
        "                         token_boundaries[entity_end - 1][-1], \n",
        "                         entity_type))\n",
        "\n",
        "        instance = (sentence_text, entities)\n",
        "        instances.append(instance)\n",
        "        current_sentence_pos += len(sentence_text) + len(_SEP)\n",
        "    return instances\n",
        "\n",
        "def documents_to_samples(\n",
        "  samples: List[List[Tuple[List[str], List[str]]]]\n",
        ") -> List[Tuple[str, List[Tuple[int, int, str]]]]:\n",
        "  \"\"\"\n",
        "  Главаня функция для преобразования примеров документов из исходного \n",
        "  формата к формату визуализации.\n",
        "  Уходим от уровня документов на уровень предложений.\n",
        "  \"\"\"\n",
        "  parser_result = []\n",
        "  for doc_id, document_sequences in enumerate(samples):\n",
        "      parser_result.extend(\n",
        "          document_to_samples(doc_id, document_sequences)\n",
        "      )\n",
        "  return parser_result"
      ],
      "metadata": {
        "id": "mqn_zs7OGLWy"
      },
      "execution_count": 12,
      "outputs": []
    },
    {
      "cell_type": "code",
      "source": [
        "train_sentences = documents_to_samples(train_docs)"
      ],
      "metadata": {
        "id": "sx2EE-mvm9Qp"
      },
      "execution_count": 13,
      "outputs": []
    },
    {
      "cell_type": "code",
      "source": [
        "train_sentences[0]"
      ],
      "metadata": {
        "colab": {
          "base_uri": "https://localhost:8080/"
        },
        "id": "R0JVz237IiZg",
        "outputId": "bcbefec2-fbd5-47ab-ff9a-e34eeeb1e23f"
      },
      "execution_count": 14,
      "outputs": [
        {
          "output_type": "execute_result",
          "data": {
            "text/plain": [
              "('EU rejects German call to boycott British lamb .',\n",
              " [(0, 2, 'ORG'), (11, 17, 'MISC'), (34, 41, 'MISC')])"
            ]
          },
          "metadata": {},
          "execution_count": 14
        }
      ]
    },
    {
      "cell_type": "markdown",
      "source": [
        "А теперь можем визулизировать первые 5 предложений:"
      ],
      "metadata": {
        "id": "2SkRDyJge9xW"
      }
    },
    {
      "cell_type": "code",
      "source": [
        "visualize_n_example = 5\n",
        "for i in train_sentences[:visualize_n_example]:\n",
        "  show_span_line_markup(*i)\n",
        "  print()"
      ],
      "metadata": {
        "colab": {
          "base_uri": "https://localhost:8080/",
          "height": 350
        },
        "id": "0MlWYBddIqCz",
        "outputId": "451b4211-9a5f-412c-a75d-c62d3d5af0e1"
      },
      "execution_count": 15,
      "outputs": [
        {
          "output_type": "display_data",
          "data": {
            "text/plain": [
              "<IPython.core.display.HTML object>"
            ],
            "text/html": [
              "<div class=\"tex2jax_ignore\" style=\"white-space: pre-wrap\"><div><span style=\"display: inline-block; vertical-align: top\"></span><span style=\"display: inline-block; vertical-align: top; position: relative; margin-bottom: 11px\"><span style=\"border-bottom: 3px solid #90caf9; padding-bottom: 8px\">EU</span><span style=\"font-size: 11px; line-height: 1; white-space: nowrap; text-shadow: 1px 1px 0px white; position: absolute; left: 0; bottom: -8px\">ORG</span></span><span style=\"display: inline-block; vertical-align: top\"> rejects </span><span style=\"display: inline-block; vertical-align: top; position: relative; margin-bottom: 11px\"><span style=\"border-bottom: 3px solid #a5d6a7; padding-bottom: 8px\">German</span><span style=\"font-size: 11px; line-height: 1; white-space: nowrap; text-shadow: 1px 1px 0px white; position: absolute; left: 0; bottom: -8px\">MISC</span></span><span style=\"display: inline-block; vertical-align: top\"> call to boycott </span><span style=\"display: inline-block; vertical-align: top; position: relative; margin-bottom: 11px\"><span style=\"border-bottom: 3px solid #a5d6a7; padding-bottom: 8px\">British</span><span style=\"font-size: 11px; line-height: 1; white-space: nowrap; text-shadow: 1px 1px 0px white; position: absolute; left: 0; bottom: -8px\">MISC</span></span><span style=\"display: inline-block; vertical-align: top\"> lamb .</span></div></div>"
            ]
          },
          "metadata": {}
        },
        {
          "output_type": "stream",
          "name": "stdout",
          "text": [
            "\n"
          ]
        },
        {
          "output_type": "display_data",
          "data": {
            "text/plain": [
              "<IPython.core.display.HTML object>"
            ],
            "text/html": [
              "<div class=\"tex2jax_ignore\" style=\"white-space: pre-wrap\"><div><span style=\"display: inline-block; vertical-align: top\"></span><span style=\"display: inline-block; vertical-align: top; position: relative; margin-bottom: 11px\"><span style=\"border-bottom: 3px solid #ef9a9a; padding-bottom: 8px\">Peter Blackburn</span><span style=\"font-size: 11px; line-height: 1; white-space: nowrap; text-shadow: 1px 1px 0px white; position: absolute; left: 0; bottom: -8px\">PER</span></span><span style=\"display: inline-block; vertical-align: top\"></span></div></div>"
            ]
          },
          "metadata": {}
        },
        {
          "output_type": "stream",
          "name": "stdout",
          "text": [
            "\n"
          ]
        },
        {
          "output_type": "display_data",
          "data": {
            "text/plain": [
              "<IPython.core.display.HTML object>"
            ],
            "text/html": [
              "<div class=\"tex2jax_ignore\" style=\"white-space: pre-wrap\"><div><span style=\"display: inline-block; vertical-align: top\"></span><span style=\"display: inline-block; vertical-align: top; position: relative; margin-bottom: 11px\"><span style=\"border-bottom: 3px solid #ffcc80; padding-bottom: 8px\">BRUSSELS</span><span style=\"font-size: 11px; line-height: 1; white-space: nowrap; text-shadow: 1px 1px 0px white; position: absolute; left: 0; bottom: -8px\">LOC</span></span><span style=\"display: inline-block; vertical-align: top\"> 1996-08-22</span></div></div>"
            ]
          },
          "metadata": {}
        },
        {
          "output_type": "stream",
          "name": "stdout",
          "text": [
            "\n"
          ]
        },
        {
          "output_type": "display_data",
          "data": {
            "text/plain": [
              "<IPython.core.display.HTML object>"
            ],
            "text/html": [
              "<div class=\"tex2jax_ignore\" style=\"white-space: pre-wrap\"><div><span style=\"display: inline-block; vertical-align: top\">The </span><span style=\"display: inline-block; vertical-align: top; position: relative; margin-bottom: 11px\"><span style=\"border-bottom: 3px solid #90caf9; padding-bottom: 8px\">European Commission</span><span style=\"font-size: 11px; line-height: 1; white-space: nowrap; text-shadow: 1px 1px 0px white; position: absolute; left: 0; bottom: -8px\">ORG</span></span><span style=\"display: inline-block; vertical-align: top\"> said on Thursday it disagreed with </span><span style=\"display: inline-block; vertical-align: top; position: relative; margin-bottom: 11px\"><span style=\"border-bottom: 3px solid #a5d6a7; padding-bottom: 8px\">German</span><span style=\"font-size: 11px; line-height: 1; white-space: nowrap; text-shadow: 1px 1px 0px white; position: absolute; left: 0; bottom: -8px\">MISC</span></span><span style=\"display: inline-block; vertical-align: top\"> advice to </span></div><div><span style=\"display: inline-block; vertical-align: top\">consumers to shun </span><span style=\"display: inline-block; vertical-align: top; position: relative; margin-bottom: 11px\"><span style=\"border-bottom: 3px solid #a5d6a7; padding-bottom: 8px\">British</span><span style=\"font-size: 11px; line-height: 1; white-space: nowrap; text-shadow: 1px 1px 0px white; position: absolute; left: 0; bottom: -8px\">MISC</span></span><span style=\"display: inline-block; vertical-align: top\"> lamb until scientists determine whether mad cow </span></div><div><span style=\"display: inline-block; vertical-align: top\">disease can be transmitted to sheep .</span></div></div>"
            ]
          },
          "metadata": {}
        },
        {
          "output_type": "stream",
          "name": "stdout",
          "text": [
            "\n"
          ]
        },
        {
          "output_type": "display_data",
          "data": {
            "text/plain": [
              "<IPython.core.display.HTML object>"
            ],
            "text/html": [
              "<div class=\"tex2jax_ignore\" style=\"white-space: pre-wrap\"><div><span style=\"display: inline-block; vertical-align: top\"></span><span style=\"display: inline-block; vertical-align: top; position: relative; margin-bottom: 11px\"><span style=\"border-bottom: 3px solid #ffcc80; padding-bottom: 8px\">Germany</span><span style=\"font-size: 11px; line-height: 1; white-space: nowrap; text-shadow: 1px 1px 0px white; position: absolute; left: 0; bottom: -8px\">LOC</span></span><span style=\"display: inline-block; vertical-align: top\"> &#x27;s representative to the </span><span style=\"display: inline-block; vertical-align: top; position: relative; margin-bottom: 11px\"><span style=\"border-bottom: 3px solid #90caf9; padding-bottom: 8px\">European Union</span><span style=\"font-size: 11px; line-height: 1; white-space: nowrap; text-shadow: 1px 1px 0px white; position: absolute; left: 0; bottom: -8px\">ORG</span></span><span style=\"display: inline-block; vertical-align: top\"> &#x27;s veterinary committee </span><span style=\"display: inline-block; vertical-align: top; position: relative; margin-bottom: 11px\"><span style=\"border-bottom: 3px solid #ef9a9a; padding-bottom: 8px\">Werner </span><span style=\"font-size: 11px; line-height: 1; white-space: nowrap; text-shadow: 1px 1px 0px white; position: absolute; left: 0; bottom: -8px\">PER</span></span><span style=\"display: inline-block; vertical-align: top\"></span></div><div><span style=\"display: inline-block; vertical-align: top\"></span><span style=\"display: inline-block; vertical-align: top; position: relative; margin-bottom: 11px\"><span style=\"border-bottom: 3px solid #ef9a9a; padding-bottom: 8px\">Zwingmann</span></span><span style=\"display: inline-block; vertical-align: top\"> said on Wednesday consumers should buy sheepmeat from countries other </span></div><div><span style=\"display: inline-block; vertical-align: top\">than </span><span style=\"display: inline-block; vertical-align: top; position: relative; margin-bottom: 11px\"><span style=\"border-bottom: 3px solid #ffcc80; padding-bottom: 8px\">Britain</span><span style=\"font-size: 11px; line-height: 1; white-space: nowrap; text-shadow: 1px 1px 0px white; position: absolute; left: 0; bottom: -8px\">LOC</span></span><span style=\"display: inline-block; vertical-align: top\"> until the scientific advice was clearer .</span></div></div>"
            ]
          },
          "metadata": {}
        },
        {
          "output_type": "stream",
          "name": "stdout",
          "text": [
            "\n"
          ]
        }
      ]
    },
    {
      "cell_type": "markdown",
      "source": [
        "## Label studio\n",
        "\n",
        "Согласно главной странице инструмента [**Label studio**](https://labelstud.io/) - \"это самый гибкий инстурмент для аннотирования данных\". Вы сможете конфигурировать кастомные шаблоны для построения процесса разметки, а если вы новичок, то достаточно будет воспользоваться готовыми темплейтами. Установка не потребует большого количества времени.\n",
        "\n",
        "\n",
        "\n",
        "Действительно, с помощью готовых шаблонов мы сможете решать найиболее частотные NLP задачи:\n",
        "\n",
        "1.   *Классификация* : Классификация документов мультиклассовая/мультилейбловая с набором до 1000 заданных типов\n",
        "\n",
        "2.   *Извлечение сущностей*: Сегментация и категоризация фрагментов текста\n",
        "\n",
        "3. *Вопросно-ответные системы*: Разметка для построения датасета вопросно-ответной системы с опорой на контекст \n",
        "\n",
        "4. *Анализ тональности*: Определение типа тональности текста (до N категорий)\n"
      ],
      "metadata": {
        "id": "RqNfg3ajAeFy"
      }
    },
    {
      "cell_type": "markdown",
      "source": [
        "#### Задача #1\n",
        "В **Label studio** было размечено два документа с помощью шаблона \"Извлечение сущностей\". Ваша задача считать разметку из файла-выгрузки и преобразовать ее к формату пригодному для визулизации с помощью **ipymarkup**. Ожидаемые типы сущностей **LOC**, **ORG**, **PER**."
      ],
      "metadata": {
        "id": "CPZPM-WKJV9W"
      }
    },
    {
      "cell_type": "code",
      "source": [
        "! head {base_folder}/resources/is_markup/project-770-at-2022-04-03-15-42-e657ff5c.json"
      ],
      "metadata": {
        "colab": {
          "base_uri": "https://localhost:8080/"
        },
        "id": "MPPsZKuMJq-H",
        "outputId": "78d788a6-c5f8-46f4-994c-495ca525f401"
      },
      "execution_count": 22,
      "outputs": [
        {
          "output_type": "stream",
          "name": "stdout",
          "text": [
            "[{\"id\":251710,\"annotations\":[{\"id\":142494,\"completed_by\":57,\"result\":[{\"id\":\"uoVEuYDPxP\",\"type\":\"labels\",\"value\":{\"end\":203,\"text\":\"Евгений Красников\",\"start\":186,\"labels\":[\"PER\"]},\"origin\":\"manual\",\"to_name\":\"text\",\"from_name\":\"label\"},{\"id\":\"803QOHrY4b\",\"type\":\"labels\",\"value\":{\"end\":58,\"text\":\"«Зенита»\",\"start\":50,\"labels\":[\"ORG\"]},\"origin\":\"manual\",\"to_name\":\"text\",\"from_name\":\"label\"},{\"id\":\"L_TMhypNgJ\",\"type\":\"labels\",\"value\":{\"end\":87,\"text\":\"«Металлиста»\",\"start\":75,\"labels\":[\"ORG\"]},\"origin\":\"manual\",\"to_name\":\"text\",\"from_name\":\"label\"},{\"id\":\"CWMau-ScoY\",\"type\":\"labels\",\"value\":{\"end\":143,\"text\":\"«Зенитом»\",\"start\":134,\"labels\":[\"ORG\"]},\"origin\":\"manual\",\"to_name\":\"text\",\"from_name\":\"label\"},{\"id\":\"V6Y2BmJ1wJ\",\"type\":\"labels\",\"value\":{\"end\":299,\"text\":\"«Зенита»\",\"start\":291,\"labels\":[\"ORG\"]},\"origin\":\"manual\",\"to_name\":\"text\",\"from_name\":\"label\"},{\"id\":\"fk6W4Ug38H\",\"type\":\"labels\",\"value\":{\"end\":624,\"text\":\"«Зенита»\",\"start\":616,\"labels\":[\"ORG\"]},\"origin\":\"manual\",\"to_name\":\"text\",\"from_name\":\"label\"},{\"id\":\"05hitQQNRT\",\"type\":\"labels\",\"value\":{\"end\":724,\"text\":\"Metaratings\",\"start\":713,\"labels\":[\"ORG\"]},\"origin\":\"manual\",\"to_name\":\"text\",\"from_name\":\"label\"},{\"id\":\"UCUGVs8wbA\",\"type\":\"labels\",\"value\":{\"end\":796,\"text\":\"«Истанбул»\",\"start\":786,\"labels\":[\"ORG\"]},\"origin\":\"manual\",\"to_name\":\"text\",\"from_name\":\"label\"},{\"id\":\"ORwUXzbkIX\",\"type\":\"labels\",\"value\":{\"end\":812,\"text\":\"«Аланьяспор\",\"start\":801,\"labels\":[\"ORG\"]},\"origin\":\"manual\",\"to_name\":\"text\",\"from_name\":\"label\"},{\"id\":\"YaTNDo8wjm\",\"type\":\"labels\",\"value\":{\"end\":46,\"text\":\"Ракицкого\",\"start\":37,\"labels\":[\"PER\"]},\"origin\":\"manual\",\"to_name\":\"text\",\"from_name\":\"label\"},{\"id\":\"zEtLEkr7kN\",\"type\":\"labels\",\"value\":{\"end\":97,\"text\":\"Ракицкий\",\"start\":89,\"labels\":[\"PER\"]},\"origin\":\"manual\",\"to_name\":\"text\",\"from_name\":\"label\"},{\"id\":\"xQ3QobUVi7\",\"type\":\"labels\",\"value\":{\"end\":272,\"text\":\"Ярослава Ракицкого\",\"start\":254,\"labels\":[\"PER\"]},\"origin\":\"manual\",\"to_name\":\"text\",\"from_name\":\"label\"},{\"id\":\"oivIu1W9W6\",\"type\":\"labels\",\"value\":{\"end\":475,\"text\":\"Красников\",\"start\":466,\"labels\":[\"PER\"]},\"origin\":\"manual\",\"to_name\":\"text\",\"from_name\":\"label\"},{\"id\":\"uUonD-NInW\",\"type\":\"labels\",\"value\":{\"end\":571,\"text\":\"Ракицкий\",\"start\":563,\"labels\":[\"PER\"]},\"origin\":\"manual\",\"to_name\":\"text\",\"from_name\":\"label\"},{\"id\":\"0CxlPbpmOM\",\"type\":\"labels\",\"value\":{\"end\":607,\"text\":\"Ракицкий\",\"start\":599,\"labels\":[\"PER\"]},\"origin\":\"manual\",\"to_name\":\"text\",\"from_name\":\"label\"},{\"id\":\"UbymvqXndU\",\"type\":\"labels\",\"value\":{\"end\":760,\"text\":\"Ракицкий\",\"start\":752,\"labels\":[\"PER\"]},\"origin\":\"manual\",\"to_name\":\"text\",\"from_name\":\"label\"},{\"id\":\"QN5OSvo7HK\",\"type\":\"labels\",\"value\":{\"end\":335,\"text\":\"Football.ua\",\"start\":324,\"labels\":[\"ORG\"]},\"origin\":\"manual\",\"to_name\":\"text\",\"from_name\":\"label\"},{\"id\":\"ytyhew1a0T\",\"type\":\"labels\",\"value\":{\"end\":185,\"text\":\"«Металлиста»\",\"start\":173,\"labels\":[\"ORG\"]},\"origin\":\"manual\",\"to_name\":\"text\",\"from_name\":\"label\"},{\"id\":\"FHbsK1qTwD\",\"type\":\"labels\",\"value\":{\"end\":539,\"text\":\"Украины\",\"start\":532,\"labels\":[\"LOC\"]},\"origin\":\"manual\",\"to_name\":\"text\",\"from_name\":\"label\"}],\"was_cancelled\":false,\"ground_truth\":false,\"created_at\":\"2022-04-03T15:41:40.345674Z\",\"updated_at\":\"2022-04-03T15:41:40.345688Z\",\"lead_time\":229.97,\"prediction\":{},\"result_count\":0,\"task\":251710,\"parent_prediction\":null,\"parent_annotation\":null}],\"file_upload\":\"9ed8b063-text1.txt\",\"drafts\":[],\"predictions\":[],\"data\":{\"text\":\"Появились подробности ухода украинца Ракицкого из «Зенита». Вице-президент «Металлиста»: Ракицкий разорвал очень серьезный контракт с «Зенитом». Вице-президент харьковского «Металлиста» Евгений Красников рассказал подробности ухода украинского защитника Ярослава Ракицкого из петербургского «Зенита». Они появились на сайте Football.ua.«Когда вопрос встал ребром, человек расторг контракт. Причем очень серьезный контракт, я знаю. Он разорвал его и уехал», — заявил Красников. Он добавил, что футболист хотел бы вернуться в сборную Украины, и выразил мнение, что Ракицкий заслужил такую возможность.Ракицкий ушел из «Зенита» 2 марта. Контракт футболиста был расторгнут по обоюдному согласию сторон. По информации Metaratings, в летнее трансферное окно Ракицкий может перейти в турецкие «Истанбул» или «Аланьяспор».\"},\"meta\":{},\"created_at\":\"2022-04-03T15:36:03.521063Z\",\"updated_at\":\"2022-04-03T15:41:40.385356Z\",\"project\":770},{\"id\":251709,\"annotations\":[{\"id\":142493,\"completed_by\":57,\"result\":[{\"id\":\"EKnNBP51Z_\",\"type\":\"labels\",\"value\":{\"end\":44,\"text\":\"Екатерина Шпица\",\"start\":29,\"labels\":[\"PER\"]},\"origin\":\"manual\",\"to_name\":\"text\",\"from_name\":\"label\"},{\"id\":\"S-8YExT-3x\",\"type\":\"labels\",\"value\":{\"end\":69,\"text\":\"«Москвич Mag»\",\"start\":56,\"labels\":[\"ORG\"]},\"origin\":\"manual\",\"to_name\":\"text\",\"from_name\":\"label\"},{\"id\":\"VyvxYm3AWv\",\"type\":\"labels\",\"value\":{\"end\":331,\"text\":\"Инте\",\"start\":327,\"labels\":[\"LOC\"]},\"origin\":\"manual\",\"to_name\":\"text\",\"from_name\":\"label\"},{\"id\":\"FYKYtiW78A\",\"type\":\"labels\",\"value\":{\"end\":375,\"text\":\"Москвич \",\"start\":367,\"labels\":[\"ORG\"]},\"origin\":\"manual\",\"to_name\":\"text\",\"from_name\":\"label\"}],\"was_cancelled\":false,\"ground_truth\":false,\"created_at\":\"2022-04-03T15:36:58.172675Z\",\"updated_at\":\"2022-04-03T15:37:48.304771Z\",\"lead_time\":481.258,\"prediction\":{},\"result_count\":0,\"task\":251709,\"parent_prediction\":null,\"parent_annotation\":null}],\"file_upload\":\"b56d3159-text2.txt\",\"drafts\":[],\"predictions\":[],\"data\":{\"text\":\"Известная российская актриса Екатерина Шпица в беседе с «Москвич Mag» назвала отличительное качество москвичей от жителей других городов. Она отметила, что в последнее время ей все чаще, глядя на человека, сложно определить, коренной он москвич или нет. Она уточнила, что сама является «понаехавшей», так как родилась в городе Инте, но ее сын — москвич по рождению. «Москвич — это глубже и больше, чем производное от топонима, это характеристика личности. Понятно, что москвичи бывают разного качества — и со знаком \\\"плюс\\\", и \\\"минус\\\", но для меня это понятие включает в себя прежде всего энергичность, мобильность, работоспособность», — объясняет она. Артистка считает, что настоящий москвич — это творческий человек, не имеющий чувства страха. В заключение она добавила, что каждый человек может стать москвичом, если это необходимо для его развития.\"},\"meta\":{},\"created_at\":\"2022-04-03T15:36:03.521007Z\",\"updated_at\":\"2022-04-03T15:37:48.322874Z\",\"project\":770}]"
          ]
        }
      ]
    },
    {
      "cell_type": "code",
      "source": [
        "def read_ls_data(file_path: str) -> List[Tuple[str, List[Tuple[int, int, str]]]]:\n",
        "  \"\"\"\n",
        "  Your code here\n",
        "  \"\"\"\n",
        "  pass\n"
      ],
      "metadata": {
        "id": "hBqCAA7TCbP3"
      },
      "execution_count": null,
      "outputs": []
    },
    {
      "cell_type": "code",
      "source": [
        "file_path = \"YOUR PATH HERE\"\n",
        "result = read_ls_data(file_path)"
      ],
      "metadata": {
        "id": "bFGOlVmUnlxd"
      },
      "execution_count": 27,
      "outputs": []
    },
    {
      "cell_type": "markdown",
      "source": [
        "#### Проверить решение"
      ],
      "metadata": {
        "id": "czPW_wsNnZnD"
      }
    },
    {
      "cell_type": "code",
      "source": [
        "assert len(result) == 2, \"Должно быть размечено два документа\"\n",
        "assert all([True for doc_text, markup in result if markup]), \"В каждом документе должна быть разметка\"\n",
        "\n",
        "expected_markup = [(29, 44, 'PER'), (56, 69, 'ORG'), (327, 331, 'LOC'), (367, 375, 'ORG')]\n",
        "\n",
        "_, result_markup = result[1]\n",
        "result_markup = sorted(result_markup, key=lambda x: x[0])\n",
        "for res_m, expect_m in zip(result_markup, expected_markup):\n",
        "  assert res_m == expect_m, f\"Полученная и ожидаемая разметка не совпадают {res_m} != {expect_m}\"\n",
        "\n",
        "\n",
        "print(\"Все в порядке :)\")"
      ],
      "metadata": {
        "colab": {
          "base_uri": "https://localhost:8080/"
        },
        "id": "HkENX21JngTL",
        "outputId": "85837c4f-a6c2-44ba-e8d7-efb498e7c5ee"
      },
      "execution_count": 28,
      "outputs": [
        {
          "output_type": "stream",
          "name": "stdout",
          "text": [
            "Все в порядке :)\n"
          ]
        }
      ]
    },
    {
      "cell_type": "code",
      "source": [
        "show_span_line_markup(*result[0])"
      ],
      "metadata": {
        "colab": {
          "base_uri": "https://localhost:8080/",
          "height": 318
        },
        "id": "LpRgiUsKnJW_",
        "outputId": "c1b0d8a1-2b1c-41c9-89e6-02169360b1ae"
      },
      "execution_count": 29,
      "outputs": [
        {
          "output_type": "display_data",
          "data": {
            "text/plain": [
              "<IPython.core.display.HTML object>"
            ],
            "text/html": [
              "<div class=\"tex2jax_ignore\" style=\"white-space: pre-wrap\"><div><span style=\"display: inline-block; vertical-align: top\">Появились подробности ухода украинца </span><span style=\"display: inline-block; vertical-align: top; position: relative; margin-bottom: 11px\"><span style=\"border-bottom: 3px solid #ef9a9a; padding-bottom: 8px\">Ракицкого</span><span style=\"font-size: 11px; line-height: 1; white-space: nowrap; text-shadow: 1px 1px 0px white; position: absolute; left: 0; bottom: -8px\">PER</span></span><span style=\"display: inline-block; vertical-align: top\"> из </span><span style=\"display: inline-block; vertical-align: top; position: relative; margin-bottom: 11px\"><span style=\"border-bottom: 3px solid #90caf9; padding-bottom: 8px\">«Зенита»</span><span style=\"font-size: 11px; line-height: 1; white-space: nowrap; text-shadow: 1px 1px 0px white; position: absolute; left: 0; bottom: -8px\">ORG</span></span><span style=\"display: inline-block; vertical-align: top\">. Вице-президент </span></div><div><span style=\"display: inline-block; vertical-align: top\"></span><span style=\"display: inline-block; vertical-align: top; position: relative; margin-bottom: 11px\"><span style=\"border-bottom: 3px solid #90caf9; padding-bottom: 8px\">«Металлиста»</span><span style=\"font-size: 11px; line-height: 1; white-space: nowrap; text-shadow: 1px 1px 0px white; position: absolute; left: 0; bottom: -8px\">ORG</span></span><span style=\"display: inline-block; vertical-align: top\">: </span><span style=\"display: inline-block; vertical-align: top; position: relative; margin-bottom: 11px\"><span style=\"border-bottom: 3px solid #ef9a9a; padding-bottom: 8px\">Ракицкий</span><span style=\"font-size: 11px; line-height: 1; white-space: nowrap; text-shadow: 1px 1px 0px white; position: absolute; left: 0; bottom: -8px\">PER</span></span><span style=\"display: inline-block; vertical-align: top\"> разорвал очень серьезный контракт с </span><span style=\"display: inline-block; vertical-align: top; position: relative; margin-bottom: 11px\"><span style=\"border-bottom: 3px solid #90caf9; padding-bottom: 8px\">«Зенитом»</span><span style=\"font-size: 11px; line-height: 1; white-space: nowrap; text-shadow: 1px 1px 0px white; position: absolute; left: 0; bottom: -8px\">ORG</span></span><span style=\"display: inline-block; vertical-align: top\">. Вице-</span></div><div><span style=\"display: inline-block; vertical-align: top\">президент харьковского </span><span style=\"display: inline-block; vertical-align: top; position: relative; margin-bottom: 11px\"><span style=\"border-bottom: 3px solid #90caf9; padding-bottom: 8px\">«Металлиста»</span><span style=\"font-size: 11px; line-height: 1; white-space: nowrap; text-shadow: 1px 1px 0px white; position: absolute; left: 0; bottom: -8px\">ORG</span></span><span style=\"display: inline-block; vertical-align: top\"> </span><span style=\"display: inline-block; vertical-align: top; position: relative; margin-bottom: 11px\"><span style=\"border-bottom: 3px solid #ef9a9a; padding-bottom: 8px\">Евгений Красников</span><span style=\"font-size: 11px; line-height: 1; white-space: nowrap; text-shadow: 1px 1px 0px white; position: absolute; left: 0; bottom: -8px\">PER</span></span><span style=\"display: inline-block; vertical-align: top\"> рассказал подробности </span></div><div><span style=\"display: inline-block; vertical-align: top\">ухода украинского защитника </span><span style=\"display: inline-block; vertical-align: top; position: relative; margin-bottom: 11px\"><span style=\"border-bottom: 3px solid #ef9a9a; padding-bottom: 8px\">Ярослава Ракицкого</span><span style=\"font-size: 11px; line-height: 1; white-space: nowrap; text-shadow: 1px 1px 0px white; position: absolute; left: 0; bottom: -8px\">PER</span></span><span style=\"display: inline-block; vertical-align: top\"> из петербургского </span><span style=\"display: inline-block; vertical-align: top; position: relative; margin-bottom: 11px\"><span style=\"border-bottom: 3px solid #90caf9; padding-bottom: 8px\">«Зенита»</span><span style=\"font-size: 11px; line-height: 1; white-space: nowrap; text-shadow: 1px 1px 0px white; position: absolute; left: 0; bottom: -8px\">ORG</span></span><span style=\"display: inline-block; vertical-align: top\">. Они </span></div><div><span style=\"display: inline-block; vertical-align: top\">появились на сайте </span><span style=\"display: inline-block; vertical-align: top; position: relative; margin-bottom: 11px\"><span style=\"border-bottom: 3px solid #90caf9; padding-bottom: 8px\">Football.ua</span><span style=\"font-size: 11px; line-height: 1; white-space: nowrap; text-shadow: 1px 1px 0px white; position: absolute; left: 0; bottom: -8px\">ORG</span></span><span style=\"display: inline-block; vertical-align: top\">.«Когда вопрос встал ребром, человек расторг </span></div><div><span style=\"display: inline-block; vertical-align: top\">контракт. Причем очень серьезный контракт, я знаю. Он разорвал его и уехал», — </span></div><div><span style=\"display: inline-block; vertical-align: top\">заявил </span><span style=\"display: inline-block; vertical-align: top; position: relative; margin-bottom: 11px\"><span style=\"border-bottom: 3px solid #ef9a9a; padding-bottom: 8px\">Красников</span><span style=\"font-size: 11px; line-height: 1; white-space: nowrap; text-shadow: 1px 1px 0px white; position: absolute; left: 0; bottom: -8px\">PER</span></span><span style=\"display: inline-block; vertical-align: top\">. Он добавил, что футболист хотел бы вернуться в сборную </span></div><div><span style=\"display: inline-block; vertical-align: top\"></span><span style=\"display: inline-block; vertical-align: top; position: relative; margin-bottom: 11px\"><span style=\"border-bottom: 3px solid #ffcc80; padding-bottom: 8px\">Украины</span><span style=\"font-size: 11px; line-height: 1; white-space: nowrap; text-shadow: 1px 1px 0px white; position: absolute; left: 0; bottom: -8px\">LOC</span></span><span style=\"display: inline-block; vertical-align: top\">, и выразил мнение, что </span><span style=\"display: inline-block; vertical-align: top; position: relative; margin-bottom: 11px\"><span style=\"border-bottom: 3px solid #ef9a9a; padding-bottom: 8px\">Ракицкий</span><span style=\"font-size: 11px; line-height: 1; white-space: nowrap; text-shadow: 1px 1px 0px white; position: absolute; left: 0; bottom: -8px\">PER</span></span><span style=\"display: inline-block; vertical-align: top\"> заслужил такую возможность.</span><span style=\"display: inline-block; vertical-align: top; position: relative; margin-bottom: 11px\"><span style=\"border-bottom: 3px solid #ef9a9a; padding-bottom: 8px\">Ракицкий</span><span style=\"font-size: 11px; line-height: 1; white-space: nowrap; text-shadow: 1px 1px 0px white; position: absolute; left: 0; bottom: -8px\">PER</span></span><span style=\"display: inline-block; vertical-align: top\"> ушел</span></div><div><span style=\"display: inline-block; vertical-align: top\"> из </span><span style=\"display: inline-block; vertical-align: top; position: relative; margin-bottom: 11px\"><span style=\"border-bottom: 3px solid #90caf9; padding-bottom: 8px\">«Зенита»</span><span style=\"font-size: 11px; line-height: 1; white-space: nowrap; text-shadow: 1px 1px 0px white; position: absolute; left: 0; bottom: -8px\">ORG</span></span><span style=\"display: inline-block; vertical-align: top\"> 2 марта. Контракт футболиста был расторгнут по обоюдному согласию </span></div><div><span style=\"display: inline-block; vertical-align: top\">сторон. По информации </span><span style=\"display: inline-block; vertical-align: top; position: relative; margin-bottom: 11px\"><span style=\"border-bottom: 3px solid #90caf9; padding-bottom: 8px\">Metaratings</span><span style=\"font-size: 11px; line-height: 1; white-space: nowrap; text-shadow: 1px 1px 0px white; position: absolute; left: 0; bottom: -8px\">ORG</span></span><span style=\"display: inline-block; vertical-align: top\">, в летнее трансферное окно </span><span style=\"display: inline-block; vertical-align: top; position: relative; margin-bottom: 11px\"><span style=\"border-bottom: 3px solid #ef9a9a; padding-bottom: 8px\">Ракицкий</span><span style=\"font-size: 11px; line-height: 1; white-space: nowrap; text-shadow: 1px 1px 0px white; position: absolute; left: 0; bottom: -8px\">PER</span></span><span style=\"display: inline-block; vertical-align: top\"> может </span></div><div><span style=\"display: inline-block; vertical-align: top\">перейти в турецкие </span><span style=\"display: inline-block; vertical-align: top; position: relative; margin-bottom: 11px\"><span style=\"border-bottom: 3px solid #90caf9; padding-bottom: 8px\">«Истанбул»</span><span style=\"font-size: 11px; line-height: 1; white-space: nowrap; text-shadow: 1px 1px 0px white; position: absolute; left: 0; bottom: -8px\">ORG</span></span><span style=\"display: inline-block; vertical-align: top\"> или </span><span style=\"display: inline-block; vertical-align: top; position: relative; margin-bottom: 11px\"><span style=\"border-bottom: 3px solid #90caf9; padding-bottom: 8px\">«Аланьяспор</span><span style=\"font-size: 11px; line-height: 1; white-space: nowrap; text-shadow: 1px 1px 0px white; position: absolute; left: 0; bottom: -8px\">ORG</span></span><span style=\"display: inline-block; vertical-align: top\">».</span></div></div>"
            ]
          },
          "metadata": {}
        }
      ]
    }
  ]
}